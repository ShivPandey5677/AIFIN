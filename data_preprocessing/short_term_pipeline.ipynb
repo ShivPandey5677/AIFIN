{
 "cells": [
  {
   "cell_type": "code",
   "execution_count": 10,
   "id": "3e8bd8f5-135c-4122-9c25-4f5b58de2c0b",
   "metadata": {},
   "outputs": [],
   "source": [
    "import os\n",
    "import pandas as pd\n",
    "from utils import add_technical_indicators\n",
    "\n",
    "def load_processed_symbols(log_path):\n",
    "    if os.path.exists(log_path):\n",
    "        with open(log_path, \"r\") as f:\n",
    "            return set(line.strip() for line in f.readlines())\n",
    "    return set()\n",
    "\n",
    "def log_processed_symbol(log_path, filename):\n",
    "    with open(log_path, \"a\") as f:\n",
    "        f.write(filename + \"\\n\")\n",
    "\n",
    "def process_short_term_data(input_folder, output_folder):\n",
    "    os.makedirs(output_folder, exist_ok=True)\n",
    "    all_files = [f for f in os.listdir(input_folder) if f.endswith(\".csv\")]\n",
    "\n",
    "    for file in all_files:\n",
    "        timeframe = file.split(\"_\")[-1].replace(\".csv\", \"\")\n",
    "        log_file_path = os.path.join(output_folder, f\"{timeframe}_processed.txt\")\n",
    "        processed = load_processed_symbols(log_file_path)\n",
    "\n",
    "        if file in processed:\n",
    "            print(f\"⏩ Skipping {file} (already processed)\")\n",
    "            continue\n",
    "\n",
    "        try:\n",
    "            df = pd.read_csv(os.path.join(input_folder, file), parse_dates=[\"Timestamp\"])\n",
    "            df = df.sort_values(\"Timestamp\").reset_index(drop=True)\n",
    "\n",
    "            # ✅ Skip if too few rows\n",
    "            if len(df) < 15:\n",
    "                print(f\"⚠️ Skipping {file}: only {len(df)} rows (needs at least 15)\")\n",
    "                continue\n",
    "\n",
    "            df_ta = add_technical_indicators(df.copy())\n",
    "            output_path = os.path.join(output_folder, file)\n",
    "            df_ta.to_csv(output_path, index=False)\n",
    "\n",
    "            log_processed_symbol(log_file_path, file)\n",
    "            print(f\"✅ Processed and saved {file}\")\n",
    "        except Exception as e:\n",
    "            print(f\"❌ Error processing {file}: {e}\")\n",
    "\n"
   ]
  },
  {
   "cell_type": "code",
   "execution_count": null,
   "id": "11a172dc-2de3-4038-9e6c-d6f8284443ae",
   "metadata": {},
   "outputs": [
    {
     "name": "stdout",
     "output_type": "stream",
     "text": [
      "✅ Processed and saved ADANIENT_10m.csv\n",
      "✅ Processed and saved ADANIENT_15m.csv\n",
      "✅ Processed and saved ADANIENT_1h.csv\n",
      "✅ Processed and saved ADANIENT_1m.csv\n",
      "✅ Processed and saved ADANIENT_30m.csv\n",
      "✅ Processed and saved ADANIENT_3m.csv\n",
      "✅ Processed and saved ADANIENT_5m.csv\n",
      "✅ Processed and saved ADANIPORTS_10m.csv\n",
      "✅ Processed and saved ADANIPORTS_15m.csv\n",
      "✅ Processed and saved ADANIPORTS_1h.csv\n",
      "✅ Processed and saved ADANIPORTS_1m.csv\n",
      "✅ Processed and saved ADANIPORTS_30m.csv\n",
      "✅ Processed and saved ADANIPORTS_3m.csv\n",
      "✅ Processed and saved ADANIPORTS_5m.csv\n",
      "✅ Processed and saved APOLLOHOSP_10m.csv\n",
      "✅ Processed and saved APOLLOHOSP_15m.csv\n",
      "✅ Processed and saved APOLLOHOSP_1h.csv\n",
      "✅ Processed and saved APOLLOHOSP_1m.csv\n",
      "✅ Processed and saved APOLLOHOSP_30m.csv\n",
      "✅ Processed and saved APOLLOHOSP_3m.csv\n",
      "✅ Processed and saved APOLLOHOSP_5m.csv\n",
      "✅ Processed and saved ASIANPAINT_10m.csv\n",
      "✅ Processed and saved ASIANPAINT_15m.csv\n",
      "✅ Processed and saved ASIANPAINT_1h.csv\n",
      "✅ Processed and saved ASIANPAINT_1m.csv\n"
     ]
    }
   ],
   "source": [
    "process_short_term_data(input_folder=\"../data/short_term_data/nifty50_intraday_data\",output_folder=\"../data/short_term_data/nifty50_intraday_data1\")"
   ]
  },
  {
   "cell_type": "code",
   "execution_count": null,
   "id": "3b3d81d4-f303-4d57-9aa8-3ef2daa60475",
   "metadata": {},
   "outputs": [],
   "source": []
  }
 ],
 "metadata": {
  "kernelspec": {
   "display_name": "Python 3 (ipykernel)",
   "language": "python",
   "name": "python3"
  },
  "language_info": {
   "codemirror_mode": {
    "name": "ipython",
    "version": 3
   },
   "file_extension": ".py",
   "mimetype": "text/x-python",
   "name": "python",
   "nbconvert_exporter": "python",
   "pygments_lexer": "ipython3",
   "version": "3.11.5"
  }
 },
 "nbformat": 4,
 "nbformat_minor": 5
}
