{
 "cells": [
  {
   "cell_type": "code",
   "execution_count": 1,
   "id": "214ecb95-0ce3-4147-8f47-d643d6d5b0aa",
   "metadata": {},
   "outputs": [
    {
     "name": "stderr",
     "output_type": "stream",
     "text": [
      "Processing stocks: 100%|███████████████████████████████████████████████████████████| 172/172 [1:28:05<00:00, 30.73s/it]\n"
     ]
    },
    {
     "name": "stdout",
     "output_type": "stream",
     "text": [
      "✅ Final dataset saved to: long_term_dataset.csv\n"
     ]
    }
   ],
   "source": [
    "import os\n",
    "import pandas as pd\n",
    "from tqdm import tqdm\n",
    "\n",
    "def create_window_based_dataset(input_folder: str, output_csv: str):\n",
    "    all_files = [f for f in os.listdir(input_folder) if f.endswith(\".csv\")]\n",
    "    final_data = []\n",
    "\n",
    "    for file in tqdm(all_files, desc=\"Processing stocks\"):\n",
    "        df = pd.read_csv(os.path.join(input_folder, file), parse_dates=[\"Date\"])\n",
    "        df = df.sort_values([\"WindowID\", \"RowInWindow\"]).reset_index(drop=True)\n",
    "        grouped = df.groupby(\"WindowID\")\n",
    "        \n",
    "        for window_id, group in grouped:\n",
    "            if group.shape[0] < 2:\n",
    "                continue\n",
    "            open_price = group.iloc[0][\"Open\"]\n",
    "            close_today = group.iloc[0][\"Close\"]\n",
    "            close_after_year = group.iloc[-1][\"Close\"]\n",
    "            target_return = group.iloc[0][\"TargetReturn\"]\n",
    "            symbol = group.iloc[0][\"Symbol\"]\n",
    "            date = group.iloc[0][\"Date\"]\n",
    "            indicators = group.iloc[0].drop([\"Date\", \"Open\", \"Close\", \"TargetReturn\", \"Symbol\", \"WindowID\", \"RowInWindow\"], errors='ignore').to_dict()\n",
    "            row = {\n",
    "                \"Date\": date,\n",
    "                \"Symbol\": symbol,\n",
    "                \"Open\": open_price,\n",
    "                \"Close_Today\": close_today,\n",
    "                \"Close_After_Year\": close_after_year,\n",
    "                \"Target_Return\": target_return,\n",
    "                **indicators\n",
    "            }\n",
    "            final_data.append(row)\n",
    "    \n",
    "    df_final = pd.DataFrame(final_data)\n",
    "    df_final.to_csv(output_csv, index=False)\n",
    "    print(f\"✅ Final dataset saved to: {output_csv}\")\n",
    "\n",
    "# Example usage\n",
    "create_window_based_dataset(\"../data/long_term_features/\", \"long_term_dataset.csv\")\n",
    "\n"
   ]
  },
  {
   "cell_type": "code",
   "execution_count": null,
   "id": "e107f1e7-3622-4777-9283-be80cb6471d0",
   "metadata": {},
   "outputs": [],
   "source": [
    "\n"
   ]
  }
 ],
 "metadata": {
  "kernelspec": {
   "display_name": "Python 3 (ipykernel)",
   "language": "python",
   "name": "python3"
  },
  "language_info": {
   "codemirror_mode": {
    "name": "ipython",
    "version": 3
   },
   "file_extension": ".py",
   "mimetype": "text/x-python",
   "name": "python",
   "nbconvert_exporter": "python",
   "pygments_lexer": "ipython3",
   "version": "3.11.5"
  }
 },
 "nbformat": 4,
 "nbformat_minor": 5
}
